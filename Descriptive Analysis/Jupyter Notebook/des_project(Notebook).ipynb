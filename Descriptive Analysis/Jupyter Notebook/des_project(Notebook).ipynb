{
 "cells": [
  {
   "metadata": {},
   "cell_type": "markdown",
   "source": [
    "# 🚢 Titanic Survival Analysis – Descriptive Statistics\n",
    "\n",
    "This notebook contains the step-by-step process of cleaning, analyzing, and drawing insights from the Titanic dataset using Python (Pandas).\n",
    "The objective is to explore how features like gender, age, passenger class, and fare impacted survival rates.\n",
    "\n",
    "The results of this analysis were later visualized using Power BI and compiled into a professional report."
   ],
   "id": "3fd5027b16076340"
  },
  {
   "metadata": {
    "collapsed": true,
    "ExecuteTime": {
     "end_time": "2025-04-19T09:43:47.594430Z",
     "start_time": "2025-04-19T09:43:46.858577Z"
    }
   },
   "cell_type": "code",
   "source": "import pandas as pd",
   "id": "initial_id",
   "outputs": [],
   "execution_count": 2
  },
  {
   "metadata": {
    "ExecuteTime": {
     "end_time": "2025-04-17T15:24:06.910020Z",
     "start_time": "2025-04-17T15:24:06.000304Z"
    }
   },
   "cell_type": "code",
   "source": "df = pd.read_excel(r'Descriptive Project.xlsx', sheet_name= 'working_directory') #workbook has two files one is for backup and other is for work",
   "id": "c23be7ab7722e04a",
   "outputs": [],
   "execution_count": 2
  },
  {
   "metadata": {
    "ExecuteTime": {
     "end_time": "2025-04-17T15:24:07.874069Z",
     "start_time": "2025-04-17T15:24:07.828955Z"
    }
   },
   "cell_type": "code",
   "source": "df",
   "id": "ab5d0f5a5b811e2",
   "outputs": [
    {
     "data": {
      "text/plain": [
       "     PassengerId  Survived Survived.1  Pclass   Class  \\\n",
       "0              1         0   Perished       3   Third   \n",
       "1              2         1   Survived       1   First   \n",
       "2              3         1   Survived       3   Third   \n",
       "3              4         1   Survived       1   First   \n",
       "4              5         0   Perished       3   Third   \n",
       "..           ...       ...        ...     ...     ...   \n",
       "886          887         0   Perished       2  Second   \n",
       "887          888         1   Survived       1   First   \n",
       "888          889         0   Perished       3   Third   \n",
       "889          890         1   Survived       1   First   \n",
       "890          891         0   Perished       3   Third   \n",
       "\n",
       "                                                  Name     Sex   Age  SibSp  \\\n",
       "0                              Braund, Mr. Owen Harris    male  22.0      1   \n",
       "1    Cumings, Mrs. John Bradley (Florence Briggs Th...  female  38.0      1   \n",
       "2                               Heikkinen, Miss. Laina  female  26.0      0   \n",
       "3         Futrelle, Mrs. Jacques Heath (Lily May Peel)  female  35.0      1   \n",
       "4                             Allen, Mr. William Henry    male  35.0      0   \n",
       "..                                                 ...     ...   ...    ...   \n",
       "886                              Montvila, Rev. Juozas    male  27.0      0   \n",
       "887                       Graham, Miss. Margaret Edith  female  19.0      0   \n",
       "888           Johnston, Miss. Catherine Helen \"Carrie\"  female   NaN      1   \n",
       "889                              Behr, Mr. Karl Howell    male  26.0      0   \n",
       "890                                Dooley, Mr. Patrick    male  32.0      0   \n",
       "\n",
       "     Parch            Ticket     Fare Cabin Embarked  \n",
       "0        0         A/5 21171   7.2500   NaN        S  \n",
       "1        0          PC 17599  71.2833   C85        C  \n",
       "2        0  STON/O2. 3101282   7.9250   NaN        S  \n",
       "3        0            113803  53.1000  C123        S  \n",
       "4        0            373450   8.0500   NaN        S  \n",
       "..     ...               ...      ...   ...      ...  \n",
       "886      0            211536  13.0000   NaN        S  \n",
       "887      0            112053  30.0000   B42        S  \n",
       "888      2        W./C. 6607  23.4500   NaN        S  \n",
       "889      0            111369  30.0000  C148        C  \n",
       "890      0            370376   7.7500   NaN        Q  \n",
       "\n",
       "[891 rows x 14 columns]"
      ],
      "text/html": [
       "<div>\n",
       "<style scoped>\n",
       "    .dataframe tbody tr th:only-of-type {\n",
       "        vertical-align: middle;\n",
       "    }\n",
       "\n",
       "    .dataframe tbody tr th {\n",
       "        vertical-align: top;\n",
       "    }\n",
       "\n",
       "    .dataframe thead th {\n",
       "        text-align: right;\n",
       "    }\n",
       "</style>\n",
       "<table border=\"1\" class=\"dataframe\">\n",
       "  <thead>\n",
       "    <tr style=\"text-align: right;\">\n",
       "      <th></th>\n",
       "      <th>PassengerId</th>\n",
       "      <th>Survived</th>\n",
       "      <th>Survived.1</th>\n",
       "      <th>Pclass</th>\n",
       "      <th>Class</th>\n",
       "      <th>Name</th>\n",
       "      <th>Sex</th>\n",
       "      <th>Age</th>\n",
       "      <th>SibSp</th>\n",
       "      <th>Parch</th>\n",
       "      <th>Ticket</th>\n",
       "      <th>Fare</th>\n",
       "      <th>Cabin</th>\n",
       "      <th>Embarked</th>\n",
       "    </tr>\n",
       "  </thead>\n",
       "  <tbody>\n",
       "    <tr>\n",
       "      <th>0</th>\n",
       "      <td>1</td>\n",
       "      <td>0</td>\n",
       "      <td>Perished</td>\n",
       "      <td>3</td>\n",
       "      <td>Third</td>\n",
       "      <td>Braund, Mr. Owen Harris</td>\n",
       "      <td>male</td>\n",
       "      <td>22.0</td>\n",
       "      <td>1</td>\n",
       "      <td>0</td>\n",
       "      <td>A/5 21171</td>\n",
       "      <td>7.2500</td>\n",
       "      <td>NaN</td>\n",
       "      <td>S</td>\n",
       "    </tr>\n",
       "    <tr>\n",
       "      <th>1</th>\n",
       "      <td>2</td>\n",
       "      <td>1</td>\n",
       "      <td>Survived</td>\n",
       "      <td>1</td>\n",
       "      <td>First</td>\n",
       "      <td>Cumings, Mrs. John Bradley (Florence Briggs Th...</td>\n",
       "      <td>female</td>\n",
       "      <td>38.0</td>\n",
       "      <td>1</td>\n",
       "      <td>0</td>\n",
       "      <td>PC 17599</td>\n",
       "      <td>71.2833</td>\n",
       "      <td>C85</td>\n",
       "      <td>C</td>\n",
       "    </tr>\n",
       "    <tr>\n",
       "      <th>2</th>\n",
       "      <td>3</td>\n",
       "      <td>1</td>\n",
       "      <td>Survived</td>\n",
       "      <td>3</td>\n",
       "      <td>Third</td>\n",
       "      <td>Heikkinen, Miss. Laina</td>\n",
       "      <td>female</td>\n",
       "      <td>26.0</td>\n",
       "      <td>0</td>\n",
       "      <td>0</td>\n",
       "      <td>STON/O2. 3101282</td>\n",
       "      <td>7.9250</td>\n",
       "      <td>NaN</td>\n",
       "      <td>S</td>\n",
       "    </tr>\n",
       "    <tr>\n",
       "      <th>3</th>\n",
       "      <td>4</td>\n",
       "      <td>1</td>\n",
       "      <td>Survived</td>\n",
       "      <td>1</td>\n",
       "      <td>First</td>\n",
       "      <td>Futrelle, Mrs. Jacques Heath (Lily May Peel)</td>\n",
       "      <td>female</td>\n",
       "      <td>35.0</td>\n",
       "      <td>1</td>\n",
       "      <td>0</td>\n",
       "      <td>113803</td>\n",
       "      <td>53.1000</td>\n",
       "      <td>C123</td>\n",
       "      <td>S</td>\n",
       "    </tr>\n",
       "    <tr>\n",
       "      <th>4</th>\n",
       "      <td>5</td>\n",
       "      <td>0</td>\n",
       "      <td>Perished</td>\n",
       "      <td>3</td>\n",
       "      <td>Third</td>\n",
       "      <td>Allen, Mr. William Henry</td>\n",
       "      <td>male</td>\n",
       "      <td>35.0</td>\n",
       "      <td>0</td>\n",
       "      <td>0</td>\n",
       "      <td>373450</td>\n",
       "      <td>8.0500</td>\n",
       "      <td>NaN</td>\n",
       "      <td>S</td>\n",
       "    </tr>\n",
       "    <tr>\n",
       "      <th>...</th>\n",
       "      <td>...</td>\n",
       "      <td>...</td>\n",
       "      <td>...</td>\n",
       "      <td>...</td>\n",
       "      <td>...</td>\n",
       "      <td>...</td>\n",
       "      <td>...</td>\n",
       "      <td>...</td>\n",
       "      <td>...</td>\n",
       "      <td>...</td>\n",
       "      <td>...</td>\n",
       "      <td>...</td>\n",
       "      <td>...</td>\n",
       "      <td>...</td>\n",
       "    </tr>\n",
       "    <tr>\n",
       "      <th>886</th>\n",
       "      <td>887</td>\n",
       "      <td>0</td>\n",
       "      <td>Perished</td>\n",
       "      <td>2</td>\n",
       "      <td>Second</td>\n",
       "      <td>Montvila, Rev. Juozas</td>\n",
       "      <td>male</td>\n",
       "      <td>27.0</td>\n",
       "      <td>0</td>\n",
       "      <td>0</td>\n",
       "      <td>211536</td>\n",
       "      <td>13.0000</td>\n",
       "      <td>NaN</td>\n",
       "      <td>S</td>\n",
       "    </tr>\n",
       "    <tr>\n",
       "      <th>887</th>\n",
       "      <td>888</td>\n",
       "      <td>1</td>\n",
       "      <td>Survived</td>\n",
       "      <td>1</td>\n",
       "      <td>First</td>\n",
       "      <td>Graham, Miss. Margaret Edith</td>\n",
       "      <td>female</td>\n",
       "      <td>19.0</td>\n",
       "      <td>0</td>\n",
       "      <td>0</td>\n",
       "      <td>112053</td>\n",
       "      <td>30.0000</td>\n",
       "      <td>B42</td>\n",
       "      <td>S</td>\n",
       "    </tr>\n",
       "    <tr>\n",
       "      <th>888</th>\n",
       "      <td>889</td>\n",
       "      <td>0</td>\n",
       "      <td>Perished</td>\n",
       "      <td>3</td>\n",
       "      <td>Third</td>\n",
       "      <td>Johnston, Miss. Catherine Helen \"Carrie\"</td>\n",
       "      <td>female</td>\n",
       "      <td>NaN</td>\n",
       "      <td>1</td>\n",
       "      <td>2</td>\n",
       "      <td>W./C. 6607</td>\n",
       "      <td>23.4500</td>\n",
       "      <td>NaN</td>\n",
       "      <td>S</td>\n",
       "    </tr>\n",
       "    <tr>\n",
       "      <th>889</th>\n",
       "      <td>890</td>\n",
       "      <td>1</td>\n",
       "      <td>Survived</td>\n",
       "      <td>1</td>\n",
       "      <td>First</td>\n",
       "      <td>Behr, Mr. Karl Howell</td>\n",
       "      <td>male</td>\n",
       "      <td>26.0</td>\n",
       "      <td>0</td>\n",
       "      <td>0</td>\n",
       "      <td>111369</td>\n",
       "      <td>30.0000</td>\n",
       "      <td>C148</td>\n",
       "      <td>C</td>\n",
       "    </tr>\n",
       "    <tr>\n",
       "      <th>890</th>\n",
       "      <td>891</td>\n",
       "      <td>0</td>\n",
       "      <td>Perished</td>\n",
       "      <td>3</td>\n",
       "      <td>Third</td>\n",
       "      <td>Dooley, Mr. Patrick</td>\n",
       "      <td>male</td>\n",
       "      <td>32.0</td>\n",
       "      <td>0</td>\n",
       "      <td>0</td>\n",
       "      <td>370376</td>\n",
       "      <td>7.7500</td>\n",
       "      <td>NaN</td>\n",
       "      <td>Q</td>\n",
       "    </tr>\n",
       "  </tbody>\n",
       "</table>\n",
       "<p>891 rows × 14 columns</p>\n",
       "</div>"
      ]
     },
     "execution_count": 3,
     "metadata": {},
     "output_type": "execute_result"
    }
   ],
   "execution_count": 3
  },
  {
   "metadata": {
    "ExecuteTime": {
     "end_time": "2025-04-17T15:24:08.094387Z",
     "start_time": "2025-04-17T15:24:08.082244Z"
    }
   },
   "cell_type": "code",
   "source": "df = df.drop(columns =['PassengerId', 'Survived.1', 'Ticket', 'Name', 'Cabin', 'Survived.1', 'Class']) #Deleting unwanted columns",
   "id": "f748b446918b1a30",
   "outputs": [],
   "execution_count": 4
  },
  {
   "metadata": {
    "ExecuteTime": {
     "end_time": "2025-04-17T15:24:08.259201Z",
     "start_time": "2025-04-17T15:24:08.238914Z"
    }
   },
   "cell_type": "code",
   "source": "df",
   "id": "fe2fceae2b7a4a93",
   "outputs": [
    {
     "data": {
      "text/plain": [
       "     Survived  Pclass     Sex   Age  SibSp  Parch     Fare Embarked\n",
       "0           0       3    male  22.0      1      0   7.2500        S\n",
       "1           1       1  female  38.0      1      0  71.2833        C\n",
       "2           1       3  female  26.0      0      0   7.9250        S\n",
       "3           1       1  female  35.0      1      0  53.1000        S\n",
       "4           0       3    male  35.0      0      0   8.0500        S\n",
       "..        ...     ...     ...   ...    ...    ...      ...      ...\n",
       "886         0       2    male  27.0      0      0  13.0000        S\n",
       "887         1       1  female  19.0      0      0  30.0000        S\n",
       "888         0       3  female   NaN      1      2  23.4500        S\n",
       "889         1       1    male  26.0      0      0  30.0000        C\n",
       "890         0       3    male  32.0      0      0   7.7500        Q\n",
       "\n",
       "[891 rows x 8 columns]"
      ],
      "text/html": [
       "<div>\n",
       "<style scoped>\n",
       "    .dataframe tbody tr th:only-of-type {\n",
       "        vertical-align: middle;\n",
       "    }\n",
       "\n",
       "    .dataframe tbody tr th {\n",
       "        vertical-align: top;\n",
       "    }\n",
       "\n",
       "    .dataframe thead th {\n",
       "        text-align: right;\n",
       "    }\n",
       "</style>\n",
       "<table border=\"1\" class=\"dataframe\">\n",
       "  <thead>\n",
       "    <tr style=\"text-align: right;\">\n",
       "      <th></th>\n",
       "      <th>Survived</th>\n",
       "      <th>Pclass</th>\n",
       "      <th>Sex</th>\n",
       "      <th>Age</th>\n",
       "      <th>SibSp</th>\n",
       "      <th>Parch</th>\n",
       "      <th>Fare</th>\n",
       "      <th>Embarked</th>\n",
       "    </tr>\n",
       "  </thead>\n",
       "  <tbody>\n",
       "    <tr>\n",
       "      <th>0</th>\n",
       "      <td>0</td>\n",
       "      <td>3</td>\n",
       "      <td>male</td>\n",
       "      <td>22.0</td>\n",
       "      <td>1</td>\n",
       "      <td>0</td>\n",
       "      <td>7.2500</td>\n",
       "      <td>S</td>\n",
       "    </tr>\n",
       "    <tr>\n",
       "      <th>1</th>\n",
       "      <td>1</td>\n",
       "      <td>1</td>\n",
       "      <td>female</td>\n",
       "      <td>38.0</td>\n",
       "      <td>1</td>\n",
       "      <td>0</td>\n",
       "      <td>71.2833</td>\n",
       "      <td>C</td>\n",
       "    </tr>\n",
       "    <tr>\n",
       "      <th>2</th>\n",
       "      <td>1</td>\n",
       "      <td>3</td>\n",
       "      <td>female</td>\n",
       "      <td>26.0</td>\n",
       "      <td>0</td>\n",
       "      <td>0</td>\n",
       "      <td>7.9250</td>\n",
       "      <td>S</td>\n",
       "    </tr>\n",
       "    <tr>\n",
       "      <th>3</th>\n",
       "      <td>1</td>\n",
       "      <td>1</td>\n",
       "      <td>female</td>\n",
       "      <td>35.0</td>\n",
       "      <td>1</td>\n",
       "      <td>0</td>\n",
       "      <td>53.1000</td>\n",
       "      <td>S</td>\n",
       "    </tr>\n",
       "    <tr>\n",
       "      <th>4</th>\n",
       "      <td>0</td>\n",
       "      <td>3</td>\n",
       "      <td>male</td>\n",
       "      <td>35.0</td>\n",
       "      <td>0</td>\n",
       "      <td>0</td>\n",
       "      <td>8.0500</td>\n",
       "      <td>S</td>\n",
       "    </tr>\n",
       "    <tr>\n",
       "      <th>...</th>\n",
       "      <td>...</td>\n",
       "      <td>...</td>\n",
       "      <td>...</td>\n",
       "      <td>...</td>\n",
       "      <td>...</td>\n",
       "      <td>...</td>\n",
       "      <td>...</td>\n",
       "      <td>...</td>\n",
       "    </tr>\n",
       "    <tr>\n",
       "      <th>886</th>\n",
       "      <td>0</td>\n",
       "      <td>2</td>\n",
       "      <td>male</td>\n",
       "      <td>27.0</td>\n",
       "      <td>0</td>\n",
       "      <td>0</td>\n",
       "      <td>13.0000</td>\n",
       "      <td>S</td>\n",
       "    </tr>\n",
       "    <tr>\n",
       "      <th>887</th>\n",
       "      <td>1</td>\n",
       "      <td>1</td>\n",
       "      <td>female</td>\n",
       "      <td>19.0</td>\n",
       "      <td>0</td>\n",
       "      <td>0</td>\n",
       "      <td>30.0000</td>\n",
       "      <td>S</td>\n",
       "    </tr>\n",
       "    <tr>\n",
       "      <th>888</th>\n",
       "      <td>0</td>\n",
       "      <td>3</td>\n",
       "      <td>female</td>\n",
       "      <td>NaN</td>\n",
       "      <td>1</td>\n",
       "      <td>2</td>\n",
       "      <td>23.4500</td>\n",
       "      <td>S</td>\n",
       "    </tr>\n",
       "    <tr>\n",
       "      <th>889</th>\n",
       "      <td>1</td>\n",
       "      <td>1</td>\n",
       "      <td>male</td>\n",
       "      <td>26.0</td>\n",
       "      <td>0</td>\n",
       "      <td>0</td>\n",
       "      <td>30.0000</td>\n",
       "      <td>C</td>\n",
       "    </tr>\n",
       "    <tr>\n",
       "      <th>890</th>\n",
       "      <td>0</td>\n",
       "      <td>3</td>\n",
       "      <td>male</td>\n",
       "      <td>32.0</td>\n",
       "      <td>0</td>\n",
       "      <td>0</td>\n",
       "      <td>7.7500</td>\n",
       "      <td>Q</td>\n",
       "    </tr>\n",
       "  </tbody>\n",
       "</table>\n",
       "<p>891 rows × 8 columns</p>\n",
       "</div>"
      ]
     },
     "execution_count": 5,
     "metadata": {},
     "output_type": "execute_result"
    }
   ],
   "execution_count": 5
  },
  {
   "metadata": {
    "ExecuteTime": {
     "end_time": "2025-04-17T15:24:08.555782Z",
     "start_time": "2025-04-17T15:24:08.536245Z"
    }
   },
   "cell_type": "code",
   "source": "df.info()",
   "id": "2ff7c27db76a79ef",
   "outputs": [
    {
     "name": "stdout",
     "output_type": "stream",
     "text": [
      "<class 'pandas.core.frame.DataFrame'>\n",
      "RangeIndex: 891 entries, 0 to 890\n",
      "Data columns (total 8 columns):\n",
      " #   Column    Non-Null Count  Dtype  \n",
      "---  ------    --------------  -----  \n",
      " 0   Survived  891 non-null    int64  \n",
      " 1   Pclass    891 non-null    int64  \n",
      " 2   Sex       891 non-null    object \n",
      " 3   Age       714 non-null    float64\n",
      " 4   SibSp     891 non-null    int64  \n",
      " 5   Parch     891 non-null    int64  \n",
      " 6   Fare      891 non-null    float64\n",
      " 7   Embarked  889 non-null    object \n",
      "dtypes: float64(2), int64(4), object(2)\n",
      "memory usage: 55.8+ KB\n"
     ]
    }
   ],
   "execution_count": 6
  },
  {
   "metadata": {},
   "cell_type": "markdown",
   "source": [
    "### Data Quality Check – Initial Observations\n",
    "- `Age` column has **177 missing values** (714/891)\n",
    "- `Embarked` column has **2 missing values**\n",
    "- All other columns are complete"
   ],
   "id": "2df4e63918739a5c"
  },
  {
   "metadata": {
    "ExecuteTime": {
     "end_time": "2025-04-17T15:24:08.761613Z",
     "start_time": "2025-04-17T15:24:08.733791Z"
    }
   },
   "cell_type": "code",
   "source": "df.describe()",
   "id": "115d4d4653d427fc",
   "outputs": [
    {
     "data": {
      "text/plain": [
       "         Survived      Pclass         Age       SibSp       Parch        Fare\n",
       "count  891.000000  891.000000  714.000000  891.000000  891.000000  891.000000\n",
       "mean     0.383838    2.308642   29.699118    0.523008    0.381594   32.204208\n",
       "std      0.486592    0.836071   14.526497    1.102743    0.806057   49.693429\n",
       "min      0.000000    1.000000    0.420000    0.000000    0.000000    0.000000\n",
       "25%      0.000000    2.000000   20.125000    0.000000    0.000000    7.910400\n",
       "50%      0.000000    3.000000   28.000000    0.000000    0.000000   14.454200\n",
       "75%      1.000000    3.000000   38.000000    1.000000    0.000000   31.000000\n",
       "max      1.000000    3.000000   80.000000    8.000000    6.000000  512.329200"
      ],
      "text/html": [
       "<div>\n",
       "<style scoped>\n",
       "    .dataframe tbody tr th:only-of-type {\n",
       "        vertical-align: middle;\n",
       "    }\n",
       "\n",
       "    .dataframe tbody tr th {\n",
       "        vertical-align: top;\n",
       "    }\n",
       "\n",
       "    .dataframe thead th {\n",
       "        text-align: right;\n",
       "    }\n",
       "</style>\n",
       "<table border=\"1\" class=\"dataframe\">\n",
       "  <thead>\n",
       "    <tr style=\"text-align: right;\">\n",
       "      <th></th>\n",
       "      <th>Survived</th>\n",
       "      <th>Pclass</th>\n",
       "      <th>Age</th>\n",
       "      <th>SibSp</th>\n",
       "      <th>Parch</th>\n",
       "      <th>Fare</th>\n",
       "    </tr>\n",
       "  </thead>\n",
       "  <tbody>\n",
       "    <tr>\n",
       "      <th>count</th>\n",
       "      <td>891.000000</td>\n",
       "      <td>891.000000</td>\n",
       "      <td>714.000000</td>\n",
       "      <td>891.000000</td>\n",
       "      <td>891.000000</td>\n",
       "      <td>891.000000</td>\n",
       "    </tr>\n",
       "    <tr>\n",
       "      <th>mean</th>\n",
       "      <td>0.383838</td>\n",
       "      <td>2.308642</td>\n",
       "      <td>29.699118</td>\n",
       "      <td>0.523008</td>\n",
       "      <td>0.381594</td>\n",
       "      <td>32.204208</td>\n",
       "    </tr>\n",
       "    <tr>\n",
       "      <th>std</th>\n",
       "      <td>0.486592</td>\n",
       "      <td>0.836071</td>\n",
       "      <td>14.526497</td>\n",
       "      <td>1.102743</td>\n",
       "      <td>0.806057</td>\n",
       "      <td>49.693429</td>\n",
       "    </tr>\n",
       "    <tr>\n",
       "      <th>min</th>\n",
       "      <td>0.000000</td>\n",
       "      <td>1.000000</td>\n",
       "      <td>0.420000</td>\n",
       "      <td>0.000000</td>\n",
       "      <td>0.000000</td>\n",
       "      <td>0.000000</td>\n",
       "    </tr>\n",
       "    <tr>\n",
       "      <th>25%</th>\n",
       "      <td>0.000000</td>\n",
       "      <td>2.000000</td>\n",
       "      <td>20.125000</td>\n",
       "      <td>0.000000</td>\n",
       "      <td>0.000000</td>\n",
       "      <td>7.910400</td>\n",
       "    </tr>\n",
       "    <tr>\n",
       "      <th>50%</th>\n",
       "      <td>0.000000</td>\n",
       "      <td>3.000000</td>\n",
       "      <td>28.000000</td>\n",
       "      <td>0.000000</td>\n",
       "      <td>0.000000</td>\n",
       "      <td>14.454200</td>\n",
       "    </tr>\n",
       "    <tr>\n",
       "      <th>75%</th>\n",
       "      <td>1.000000</td>\n",
       "      <td>3.000000</td>\n",
       "      <td>38.000000</td>\n",
       "      <td>1.000000</td>\n",
       "      <td>0.000000</td>\n",
       "      <td>31.000000</td>\n",
       "    </tr>\n",
       "    <tr>\n",
       "      <th>max</th>\n",
       "      <td>1.000000</td>\n",
       "      <td>3.000000</td>\n",
       "      <td>80.000000</td>\n",
       "      <td>8.000000</td>\n",
       "      <td>6.000000</td>\n",
       "      <td>512.329200</td>\n",
       "    </tr>\n",
       "  </tbody>\n",
       "</table>\n",
       "</div>"
      ]
     },
     "execution_count": 7,
     "metadata": {},
     "output_type": "execute_result"
    }
   ],
   "execution_count": 7
  },
  {
   "metadata": {},
   "cell_type": "markdown",
   "source": [
    "Following the rule that if **standard deviation > 50% of the mean**, it signals a **possible presence of outliers**.\n",
    "Based on `df.describe()`, the above columns show signs of potential outliers.\n"
   ],
   "id": "4fcebb1448f1470"
  },
  {
   "metadata": {
    "ExecuteTime": {
     "end_time": "2025-04-17T15:24:08.938574Z",
     "start_time": "2025-04-17T15:24:08.926545Z"
    }
   },
   "cell_type": "code",
   "source": "df.nunique() #it shows the unique values contained by the dataset",
   "id": "990cdf4175e3ffcd",
   "outputs": [
    {
     "data": {
      "text/plain": [
       "Survived      2\n",
       "Pclass        3\n",
       "Sex           2\n",
       "Age          88\n",
       "SibSp         7\n",
       "Parch         7\n",
       "Fare        248\n",
       "Embarked      3\n",
       "dtype: int64"
      ]
     },
     "execution_count": 8,
     "metadata": {},
     "output_type": "execute_result"
    }
   ],
   "execution_count": 8
  },
  {
   "metadata": {},
   "cell_type": "markdown",
   "source": [
    "The **agenda of using the above code is to quick scan the dataset** to spot the errors.\n",
    "Focused columns are   `Embarked` and `Sex` but everything seems okay here."
   ],
   "id": "acf37c1f40433102"
  },
  {
   "metadata": {
    "ExecuteTime": {
     "end_time": "2025-04-17T15:24:09.106844Z",
     "start_time": "2025-04-17T15:24:09.099944Z"
    }
   },
   "cell_type": "code",
   "source": "df['Sex'].unique() #manually checking for errors in the Sex column",
   "id": "b560aab88c4866d1",
   "outputs": [
    {
     "data": {
      "text/plain": [
       "array(['male', 'female'], dtype=object)"
      ]
     },
     "execution_count": 9,
     "metadata": {},
     "output_type": "execute_result"
    }
   ],
   "execution_count": 9
  },
  {
   "metadata": {
    "ExecuteTime": {
     "end_time": "2025-04-17T15:24:09.348286Z",
     "start_time": "2025-04-17T15:24:09.338850Z"
    }
   },
   "cell_type": "code",
   "source": "df['Embarked'].unique() #manually checking for errors in the Embarked column",
   "id": "34c790299f12b8b7",
   "outputs": [
    {
     "data": {
      "text/plain": [
       "array(['S', 'C', 'Q', nan], dtype=object)"
      ]
     },
     "execution_count": 10,
     "metadata": {},
     "output_type": "execute_result"
    }
   ],
   "execution_count": 10
  },
  {
   "metadata": {},
   "cell_type": "markdown",
   "source": [
    "### Checked Unique Values\n",
    "- Used `df.nunique()` to get a quick count of unique values in each column.\n",
    "- Then used `df['Sex'].unique()` and `df['Embarked'].unique()` to manually inspect actual values in key categorical columns.\n",
    "- Found that `Embarked` has a 4th value `'nan'` (missing), which is not shown in `nunique()` since it excludes nulls by default.\n",
    "- This confirms the presence of missing values and highlights why **manual checks are important** after a quick scan.\n"
   ],
   "id": "271b1ce79ce92fe6"
  },
  {
   "metadata": {},
   "cell_type": "markdown",
   "source": "## Handling Missing Values using imputation",
   "id": "1d6c734122155183"
  },
  {
   "metadata": {},
   "cell_type": "markdown",
   "source": [
    "### Handled – Age (BELOW)\n",
    "- `Age` had ~20% missing values (177 rows).\n",
    "- Instead of dropping, we chose **median imputation** to preserve data.\n",
    "- Reason: Median is less sensitive to outliers and better suited for skewed numerical data.\n"
   ],
   "id": "8f6d0926c756bef8"
  },
  {
   "metadata": {
    "ExecuteTime": {
     "end_time": "2025-04-17T15:24:09.477307Z",
     "start_time": "2025-04-17T15:24:09.467940Z"
    }
   },
   "cell_type": "code",
   "source": "df['Age'] = df['Age'].fillna(df['Age'].median()) #filling the age column where the value = nan",
   "id": "1157b1115e2b7969",
   "outputs": [],
   "execution_count": 11
  },
  {
   "metadata": {
    "ExecuteTime": {
     "end_time": "2025-04-17T15:24:09.630215Z",
     "start_time": "2025-04-17T15:24:09.622249Z"
    }
   },
   "cell_type": "code",
   "source": "df['Age'].isnull().sum() #checking the number of nulls in the age column",
   "id": "5f9d7a95b6cc8125",
   "outputs": [
    {
     "data": {
      "text/plain": [
       "0"
      ]
     },
     "execution_count": 12,
     "metadata": {},
     "output_type": "execute_result"
    }
   ],
   "execution_count": 12
  },
  {
   "metadata": {},
   "cell_type": "markdown",
   "source": [
    "### Handled Values – Embarked (BELOW)\n",
    "- `Embarked` had only 2 missing values.\n",
    "- Used **mode imputation**, as it's a categorical column.\n",
    "- Mode fills in the most frequent category, minimizing bias without data loss.\n"
   ],
   "id": "915177983e85b8a9"
  },
  {
   "metadata": {
    "ExecuteTime": {
     "end_time": "2025-04-17T15:24:09.722063Z",
     "start_time": "2025-04-17T15:24:09.714370Z"
    }
   },
   "cell_type": "code",
   "source": "df['Embarked'] = df['Embarked'].fillna(df['Embarked'].mode()[0])",
   "id": "f1b8642c6ccc9a61",
   "outputs": [],
   "execution_count": 13
  },
  {
   "metadata": {
    "ExecuteTime": {
     "end_time": "2025-04-17T15:24:09.812451Z",
     "start_time": "2025-04-17T15:24:09.799262Z"
    }
   },
   "cell_type": "code",
   "source": "df['Embarked'].isnull().sum() #checking the number of nulls in the embarked column",
   "id": "2670e2203212aa4e",
   "outputs": [
    {
     "data": {
      "text/plain": [
       "0"
      ]
     },
     "execution_count": 14,
     "metadata": {},
     "output_type": "execute_result"
    }
   ],
   "execution_count": 14
  },
  {
   "metadata": {},
   "cell_type": "markdown",
   "source": "## Frequency Distribution",
   "id": "10ffe2ac1dd89e21"
  },
  {
   "metadata": {
    "ExecuteTime": {
     "end_time": "2025-04-17T15:24:09.891005Z",
     "start_time": "2025-04-17T15:24:09.874892Z"
    }
   },
   "cell_type": "code",
   "source": "df['Sex'].value_counts(normalize=True).round(2)",
   "id": "e9fd13215b79d73c",
   "outputs": [
    {
     "data": {
      "text/plain": [
       "Sex\n",
       "male      0.65\n",
       "female    0.35\n",
       "Name: proportion, dtype: float64"
      ]
     },
     "execution_count": 15,
     "metadata": {},
     "output_type": "execute_result"
    }
   ],
   "execution_count": 15
  },
  {
   "metadata": {},
   "cell_type": "markdown",
   "source": "`Male` proportion is **65%** and `Women` proportion is **35%**.",
   "id": "9fcb9471f72004cb"
  },
  {
   "metadata": {
    "ExecuteTime": {
     "end_time": "2025-04-17T15:24:09.997474Z",
     "start_time": "2025-04-17T15:24:09.982165Z"
    }
   },
   "cell_type": "code",
   "source": "df['Pclass'].value_counts(normalize=True).round(2)",
   "id": "bd2f9c853e61029",
   "outputs": [
    {
     "data": {
      "text/plain": [
       "Pclass\n",
       "3    0.55\n",
       "1    0.24\n",
       "2    0.21\n",
       "Name: proportion, dtype: float64"
      ]
     },
     "execution_count": 16,
     "metadata": {},
     "output_type": "execute_result"
    }
   ],
   "execution_count": 16
  },
  {
   "metadata": {},
   "cell_type": "markdown",
   "source": "Passenger Class `1`, `2` and `3` has proportion **24%**, **21%** and **55%** respectively.",
   "id": "48fdbb330702f23f"
  },
  {
   "metadata": {
    "ExecuteTime": {
     "end_time": "2025-04-17T15:24:10.185173Z",
     "start_time": "2025-04-17T15:24:10.175228Z"
    }
   },
   "cell_type": "code",
   "source": "df['Embarked'].value_counts(normalize=True).round(2)",
   "id": "ff443b1395023053",
   "outputs": [
    {
     "data": {
      "text/plain": [
       "Embarked\n",
       "S    0.73\n",
       "C    0.19\n",
       "Q    0.09\n",
       "Name: proportion, dtype: float64"
      ]
     },
     "execution_count": 17,
     "metadata": {},
     "output_type": "execute_result"
    }
   ],
   "execution_count": 17
  },
  {
   "metadata": {},
   "cell_type": "markdown",
   "source": "Embarked `S`, `C` and `Q` has proportion **73%**, **19%** and **9%** respectively.",
   "id": "9586c10cee69ce61"
  },
  {
   "metadata": {
    "ExecuteTime": {
     "end_time": "2025-04-17T15:24:10.362151Z",
     "start_time": "2025-04-17T15:24:10.350911Z"
    }
   },
   "cell_type": "code",
   "source": "df['Survived'].value_counts(normalize=True).round(2)",
   "id": "b04e8793031a5dc7",
   "outputs": [
    {
     "data": {
      "text/plain": [
       "Survived\n",
       "0    0.62\n",
       "1    0.38\n",
       "Name: proportion, dtype: float64"
      ]
     },
     "execution_count": 18,
     "metadata": {},
     "output_type": "execute_result"
    }
   ],
   "execution_count": 18
  },
  {
   "metadata": {},
   "cell_type": "markdown",
   "source": "`Death` proportion is **62%** and `Survived` proportion is **38%**.",
   "id": "e77f3e05f48380d3"
  },
  {
   "metadata": {},
   "cell_type": "markdown",
   "source": [
    "### Summary of Categorical Insights\n",
    "- The dataset is **male-dominant**, with 65% male passengers.\n",
    "- Most passengers were in **3rd class (55%)**, indicating a lower socio-economic group.\n",
    "- Majority of passengers **embarked from port S (73%)**, making it the primary departure location.\n",
    "- The dataset shows an **imbalanced survival rate**, with 62% deaths and 38% survival.\n"
   ],
   "id": "9b08494751e26f77"
  },
  {
   "metadata": {},
   "cell_type": "markdown",
   "source": "## Numerical Column Analysis",
   "id": "dcac527f879600e6"
  },
  {
   "metadata": {
    "ExecuteTime": {
     "end_time": "2025-04-17T15:24:10.561871Z",
     "start_time": "2025-04-17T15:24:10.535608Z"
    }
   },
   "cell_type": "code",
   "source": "df.describe().round(2)",
   "id": "c4d719b4d8655604",
   "outputs": [
    {
     "data": {
      "text/plain": [
       "       Survived  Pclass     Age   SibSp   Parch    Fare\n",
       "count    891.00  891.00  891.00  891.00  891.00  891.00\n",
       "mean       0.38    2.31   29.36    0.52    0.38   32.20\n",
       "std        0.49    0.84   13.02    1.10    0.81   49.69\n",
       "min        0.00    1.00    0.42    0.00    0.00    0.00\n",
       "25%        0.00    2.00   22.00    0.00    0.00    7.91\n",
       "50%        0.00    3.00   28.00    0.00    0.00   14.45\n",
       "75%        1.00    3.00   35.00    1.00    0.00   31.00\n",
       "max        1.00    3.00   80.00    8.00    6.00  512.33"
      ],
      "text/html": [
       "<div>\n",
       "<style scoped>\n",
       "    .dataframe tbody tr th:only-of-type {\n",
       "        vertical-align: middle;\n",
       "    }\n",
       "\n",
       "    .dataframe tbody tr th {\n",
       "        vertical-align: top;\n",
       "    }\n",
       "\n",
       "    .dataframe thead th {\n",
       "        text-align: right;\n",
       "    }\n",
       "</style>\n",
       "<table border=\"1\" class=\"dataframe\">\n",
       "  <thead>\n",
       "    <tr style=\"text-align: right;\">\n",
       "      <th></th>\n",
       "      <th>Survived</th>\n",
       "      <th>Pclass</th>\n",
       "      <th>Age</th>\n",
       "      <th>SibSp</th>\n",
       "      <th>Parch</th>\n",
       "      <th>Fare</th>\n",
       "    </tr>\n",
       "  </thead>\n",
       "  <tbody>\n",
       "    <tr>\n",
       "      <th>count</th>\n",
       "      <td>891.00</td>\n",
       "      <td>891.00</td>\n",
       "      <td>891.00</td>\n",
       "      <td>891.00</td>\n",
       "      <td>891.00</td>\n",
       "      <td>891.00</td>\n",
       "    </tr>\n",
       "    <tr>\n",
       "      <th>mean</th>\n",
       "      <td>0.38</td>\n",
       "      <td>2.31</td>\n",
       "      <td>29.36</td>\n",
       "      <td>0.52</td>\n",
       "      <td>0.38</td>\n",
       "      <td>32.20</td>\n",
       "    </tr>\n",
       "    <tr>\n",
       "      <th>std</th>\n",
       "      <td>0.49</td>\n",
       "      <td>0.84</td>\n",
       "      <td>13.02</td>\n",
       "      <td>1.10</td>\n",
       "      <td>0.81</td>\n",
       "      <td>49.69</td>\n",
       "    </tr>\n",
       "    <tr>\n",
       "      <th>min</th>\n",
       "      <td>0.00</td>\n",
       "      <td>1.00</td>\n",
       "      <td>0.42</td>\n",
       "      <td>0.00</td>\n",
       "      <td>0.00</td>\n",
       "      <td>0.00</td>\n",
       "    </tr>\n",
       "    <tr>\n",
       "      <th>25%</th>\n",
       "      <td>0.00</td>\n",
       "      <td>2.00</td>\n",
       "      <td>22.00</td>\n",
       "      <td>0.00</td>\n",
       "      <td>0.00</td>\n",
       "      <td>7.91</td>\n",
       "    </tr>\n",
       "    <tr>\n",
       "      <th>50%</th>\n",
       "      <td>0.00</td>\n",
       "      <td>3.00</td>\n",
       "      <td>28.00</td>\n",
       "      <td>0.00</td>\n",
       "      <td>0.00</td>\n",
       "      <td>14.45</td>\n",
       "    </tr>\n",
       "    <tr>\n",
       "      <th>75%</th>\n",
       "      <td>1.00</td>\n",
       "      <td>3.00</td>\n",
       "      <td>35.00</td>\n",
       "      <td>1.00</td>\n",
       "      <td>0.00</td>\n",
       "      <td>31.00</td>\n",
       "    </tr>\n",
       "    <tr>\n",
       "      <th>max</th>\n",
       "      <td>1.00</td>\n",
       "      <td>3.00</td>\n",
       "      <td>80.00</td>\n",
       "      <td>8.00</td>\n",
       "      <td>6.00</td>\n",
       "      <td>512.33</td>\n",
       "    </tr>\n",
       "  </tbody>\n",
       "</table>\n",
       "</div>"
      ]
     },
     "execution_count": 19,
     "metadata": {},
     "output_type": "execute_result"
    }
   ],
   "execution_count": 19
  },
  {
   "metadata": {},
   "cell_type": "markdown",
   "source": "`Survived` and `Pclass` are **Binary categorical** and **Categorical Ordinal** data. So, we need to specify which column we want to use to see the `Measure of Dispersion`.",
   "id": "d5f3fe150078240b"
  },
  {
   "metadata": {
    "ExecuteTime": {
     "end_time": "2025-04-17T15:24:10.842630Z",
     "start_time": "2025-04-17T15:24:10.819665Z"
    }
   },
   "cell_type": "code",
   "source": "df[['Age', 'SibSp', 'Parch', 'Fare']].describe().round(2)",
   "id": "3ddd796a1e6e8837",
   "outputs": [
    {
     "data": {
      "text/plain": [
       "          Age   SibSp   Parch    Fare\n",
       "count  891.00  891.00  891.00  891.00\n",
       "mean    29.36    0.52    0.38   32.20\n",
       "std     13.02    1.10    0.81   49.69\n",
       "min      0.42    0.00    0.00    0.00\n",
       "25%     22.00    0.00    0.00    7.91\n",
       "50%     28.00    0.00    0.00   14.45\n",
       "75%     35.00    1.00    0.00   31.00\n",
       "max     80.00    8.00    6.00  512.33"
      ],
      "text/html": [
       "<div>\n",
       "<style scoped>\n",
       "    .dataframe tbody tr th:only-of-type {\n",
       "        vertical-align: middle;\n",
       "    }\n",
       "\n",
       "    .dataframe tbody tr th {\n",
       "        vertical-align: top;\n",
       "    }\n",
       "\n",
       "    .dataframe thead th {\n",
       "        text-align: right;\n",
       "    }\n",
       "</style>\n",
       "<table border=\"1\" class=\"dataframe\">\n",
       "  <thead>\n",
       "    <tr style=\"text-align: right;\">\n",
       "      <th></th>\n",
       "      <th>Age</th>\n",
       "      <th>SibSp</th>\n",
       "      <th>Parch</th>\n",
       "      <th>Fare</th>\n",
       "    </tr>\n",
       "  </thead>\n",
       "  <tbody>\n",
       "    <tr>\n",
       "      <th>count</th>\n",
       "      <td>891.00</td>\n",
       "      <td>891.00</td>\n",
       "      <td>891.00</td>\n",
       "      <td>891.00</td>\n",
       "    </tr>\n",
       "    <tr>\n",
       "      <th>mean</th>\n",
       "      <td>29.36</td>\n",
       "      <td>0.52</td>\n",
       "      <td>0.38</td>\n",
       "      <td>32.20</td>\n",
       "    </tr>\n",
       "    <tr>\n",
       "      <th>std</th>\n",
       "      <td>13.02</td>\n",
       "      <td>1.10</td>\n",
       "      <td>0.81</td>\n",
       "      <td>49.69</td>\n",
       "    </tr>\n",
       "    <tr>\n",
       "      <th>min</th>\n",
       "      <td>0.42</td>\n",
       "      <td>0.00</td>\n",
       "      <td>0.00</td>\n",
       "      <td>0.00</td>\n",
       "    </tr>\n",
       "    <tr>\n",
       "      <th>25%</th>\n",
       "      <td>22.00</td>\n",
       "      <td>0.00</td>\n",
       "      <td>0.00</td>\n",
       "      <td>7.91</td>\n",
       "    </tr>\n",
       "    <tr>\n",
       "      <th>50%</th>\n",
       "      <td>28.00</td>\n",
       "      <td>0.00</td>\n",
       "      <td>0.00</td>\n",
       "      <td>14.45</td>\n",
       "    </tr>\n",
       "    <tr>\n",
       "      <th>75%</th>\n",
       "      <td>35.00</td>\n",
       "      <td>1.00</td>\n",
       "      <td>0.00</td>\n",
       "      <td>31.00</td>\n",
       "    </tr>\n",
       "    <tr>\n",
       "      <th>max</th>\n",
       "      <td>80.00</td>\n",
       "      <td>8.00</td>\n",
       "      <td>6.00</td>\n",
       "      <td>512.33</td>\n",
       "    </tr>\n",
       "  </tbody>\n",
       "</table>\n",
       "</div>"
      ]
     },
     "execution_count": 20,
     "metadata": {},
     "output_type": "execute_result"
    }
   ],
   "execution_count": 20
  },
  {
   "metadata": {},
   "cell_type": "markdown",
   "source": "Except `Age` column all the other three columns showing the chances of potential **outliers**.",
   "id": "43586540ba9c15fa"
  },
  {
   "metadata": {},
   "cell_type": "markdown",
   "source": [
    "### Outlier Detection Using IQR\n",
    "To detect outliers in numerical columns, the Interquartile Range (IQR) is going to be used here.\n",
    "- **Q1** (25th percentile) and **Q3** (75th percentile) were calculated.\n",
    "- **IQR** = Q3 - Q1\n",
    "- **Lower Bound** = Q1 - 1.5 × IQR\n",
    "- **Upper Bound** = Q3 + 1.5 × IQR\n",
    "\n",
    "Values outside these bounds are considered potential outliers.\n"
   ],
   "id": "3bc8411d689f4349"
  },
  {
   "metadata": {
    "ExecuteTime": {
     "end_time": "2025-04-17T15:24:11.021856Z",
     "start_time": "2025-04-17T15:24:11.006445Z"
    }
   },
   "cell_type": "code",
   "source": [
    "def iqr_summary(df, columns): #defined function to maintain code readability and usability for future use\n",
    "    records = []\n",
    "\n",
    "    for col in columns:\n",
    "        Q1 = df[col].quantile(0.25)\n",
    "        Q3 = df[col].quantile(0.75)\n",
    "        IQR = Q3 - Q1\n",
    "        lower = Q1 - 1.5 * IQR\n",
    "        upper = Q3 + 1.5 * IQR\n",
    "        records.append({\n",
    "            'Column': col,\n",
    "            'Q1': round(Q1, 2),\n",
    "            'Q3': round(Q3, 2),\n",
    "            'IQR': round(IQR, 2),\n",
    "            'Lower Bound': round(lower, 2),\n",
    "            'Upper Bound': round(upper, 2)\n",
    "        })\n",
    "\n",
    "    return pd.DataFrame(records)\n"
   ],
   "id": "27da06461afefe1f",
   "outputs": [],
   "execution_count": 21
  },
  {
   "metadata": {
    "ExecuteTime": {
     "end_time": "2025-04-17T15:24:11.246075Z",
     "start_time": "2025-04-17T15:24:11.223730Z"
    }
   },
   "cell_type": "code",
   "source": "iqr_summary(df, ['Age', 'SibSp', 'Parch', 'Fare'])",
   "id": "968f6c7accbc32a2",
   "outputs": [
    {
     "data": {
      "text/plain": [
       "  Column     Q1    Q3    IQR  Lower Bound  Upper Bound\n",
       "0    Age  22.00  35.0  13.00         2.50        54.50\n",
       "1  SibSp   0.00   1.0   1.00        -1.50         2.50\n",
       "2  Parch   0.00   0.0   0.00         0.00         0.00\n",
       "3   Fare   7.91  31.0  23.09       -26.72        65.63"
      ],
      "text/html": [
       "<div>\n",
       "<style scoped>\n",
       "    .dataframe tbody tr th:only-of-type {\n",
       "        vertical-align: middle;\n",
       "    }\n",
       "\n",
       "    .dataframe tbody tr th {\n",
       "        vertical-align: top;\n",
       "    }\n",
       "\n",
       "    .dataframe thead th {\n",
       "        text-align: right;\n",
       "    }\n",
       "</style>\n",
       "<table border=\"1\" class=\"dataframe\">\n",
       "  <thead>\n",
       "    <tr style=\"text-align: right;\">\n",
       "      <th></th>\n",
       "      <th>Column</th>\n",
       "      <th>Q1</th>\n",
       "      <th>Q3</th>\n",
       "      <th>IQR</th>\n",
       "      <th>Lower Bound</th>\n",
       "      <th>Upper Bound</th>\n",
       "    </tr>\n",
       "  </thead>\n",
       "  <tbody>\n",
       "    <tr>\n",
       "      <th>0</th>\n",
       "      <td>Age</td>\n",
       "      <td>22.00</td>\n",
       "      <td>35.0</td>\n",
       "      <td>13.00</td>\n",
       "      <td>2.50</td>\n",
       "      <td>54.50</td>\n",
       "    </tr>\n",
       "    <tr>\n",
       "      <th>1</th>\n",
       "      <td>SibSp</td>\n",
       "      <td>0.00</td>\n",
       "      <td>1.0</td>\n",
       "      <td>1.00</td>\n",
       "      <td>-1.50</td>\n",
       "      <td>2.50</td>\n",
       "    </tr>\n",
       "    <tr>\n",
       "      <th>2</th>\n",
       "      <td>Parch</td>\n",
       "      <td>0.00</td>\n",
       "      <td>0.0</td>\n",
       "      <td>0.00</td>\n",
       "      <td>0.00</td>\n",
       "      <td>0.00</td>\n",
       "    </tr>\n",
       "    <tr>\n",
       "      <th>3</th>\n",
       "      <td>Fare</td>\n",
       "      <td>7.91</td>\n",
       "      <td>31.0</td>\n",
       "      <td>23.09</td>\n",
       "      <td>-26.72</td>\n",
       "      <td>65.63</td>\n",
       "    </tr>\n",
       "  </tbody>\n",
       "</table>\n",
       "</div>"
      ]
     },
     "execution_count": 22,
     "metadata": {},
     "output_type": "execute_result"
    }
   ],
   "execution_count": 22
  },
  {
   "metadata": {},
   "cell_type": "markdown",
   "source": "Now, that we have IQR and Bounds calculated. It's time to - Detect **actual outliers** using those bounds",
   "id": "b7c9d326ecbf55cb"
  },
  {
   "metadata": {
    "ExecuteTime": {
     "end_time": "2025-04-17T15:24:11.432623Z",
     "start_time": "2025-04-17T15:24:11.414487Z"
    }
   },
   "cell_type": "code",
   "source": [
    "outliers_age = df[(df['Age'] < 2.5) | (df['Age'] > 54.5)]\n",
    "outliers_sibsp = df[(df['SibSp'] < -1.5) | (df['SibSp'] > 2.5)]\n",
    "outliers_fare = df[(df['Fare'] < -26.72) | (df['Fare'] > 65.63)]"
   ],
   "id": "2f58dc11ca8deb74",
   "outputs": [],
   "execution_count": 23
  },
  {
   "metadata": {},
   "cell_type": "markdown",
   "source": [
    "### Note on 'Parch' Column\n",
    "The `Parch` column was excluded from outlier detection using the IQR method because:\n",
    "- Both Q1 and Q3 were 0, resulting in an IQR of 0.\n",
    "- This indicates that at least 75% of the values are zero.\n",
    "- With no meaningful spread, the IQR method is not suitable for identifying outliers in this column."
   ],
   "id": "b73bf6e60f060e7"
  },
  {
   "metadata": {
    "ExecuteTime": {
     "end_time": "2025-04-17T15:24:11.691268Z",
     "start_time": "2025-04-17T15:24:11.677223Z"
    }
   },
   "cell_type": "code",
   "source": [
    "outlier_counts = pd.DataFrame({\n",
    "    'Column': ['Age', 'SibSp', 'Fare'],\n",
    "    'Outlier Count': [\n",
    "        len(outliers_age),\n",
    "        len(outliers_sibsp),\n",
    "        len(outliers_fare)\n",
    "    ]\n",
    "})\n",
    "outlier_counts"
   ],
   "id": "de5f8bbbaf680cf4",
   "outputs": [
    {
     "data": {
      "text/plain": [
       "  Column  Outlier Count\n",
       "0    Age             66\n",
       "1  SibSp             46\n",
       "2   Fare            116"
      ],
      "text/html": [
       "<div>\n",
       "<style scoped>\n",
       "    .dataframe tbody tr th:only-of-type {\n",
       "        vertical-align: middle;\n",
       "    }\n",
       "\n",
       "    .dataframe tbody tr th {\n",
       "        vertical-align: top;\n",
       "    }\n",
       "\n",
       "    .dataframe thead th {\n",
       "        text-align: right;\n",
       "    }\n",
       "</style>\n",
       "<table border=\"1\" class=\"dataframe\">\n",
       "  <thead>\n",
       "    <tr style=\"text-align: right;\">\n",
       "      <th></th>\n",
       "      <th>Column</th>\n",
       "      <th>Outlier Count</th>\n",
       "    </tr>\n",
       "  </thead>\n",
       "  <tbody>\n",
       "    <tr>\n",
       "      <th>0</th>\n",
       "      <td>Age</td>\n",
       "      <td>66</td>\n",
       "    </tr>\n",
       "    <tr>\n",
       "      <th>1</th>\n",
       "      <td>SibSp</td>\n",
       "      <td>46</td>\n",
       "    </tr>\n",
       "    <tr>\n",
       "      <th>2</th>\n",
       "      <td>Fare</td>\n",
       "      <td>116</td>\n",
       "    </tr>\n",
       "  </tbody>\n",
       "</table>\n",
       "</div>"
      ]
     },
     "execution_count": 24,
     "metadata": {},
     "output_type": "execute_result"
    }
   ],
   "execution_count": 24
  },
  {
   "metadata": {},
   "cell_type": "markdown",
   "source": [
    "### Outlier Summary\n",
    "- `Fare` has the highest number of outliers, suggesting a wide range in ticket prices.\n",
    "- `Age` contains some high or low extremes, possibly indicating very young or old passengers.\n",
    "- `SibSp` has few outliers, mostly due to large families or solo travelers.\n",
    "- These outliers will be noted but **not removed**, as they may carry meaningful patterns.\n"
   ],
   "id": "2e37a5ee1127d25a"
  },
  {
   "metadata": {},
   "cell_type": "markdown",
   "source": "## Central Tendency & Spread Analysis",
   "id": "acc3b87c71a72082"
  },
  {
   "metadata": {
    "ExecuteTime": {
     "end_time": "2025-04-17T15:24:11.793218Z",
     "start_time": "2025-04-17T15:24:11.774918Z"
    }
   },
   "cell_type": "code",
   "source": "df[['Age', 'SibSp', 'Fare']].agg(['mean', 'median', 'std', 'min', 'max']).round(2)",
   "id": "92b136095a5bca1d",
   "outputs": [
    {
     "data": {
      "text/plain": [
       "          Age  SibSp    Fare\n",
       "mean    29.36   0.52   32.20\n",
       "median  28.00   0.00   14.45\n",
       "std     13.02   1.10   49.69\n",
       "min      0.42   0.00    0.00\n",
       "max     80.00   8.00  512.33"
      ],
      "text/html": [
       "<div>\n",
       "<style scoped>\n",
       "    .dataframe tbody tr th:only-of-type {\n",
       "        vertical-align: middle;\n",
       "    }\n",
       "\n",
       "    .dataframe tbody tr th {\n",
       "        vertical-align: top;\n",
       "    }\n",
       "\n",
       "    .dataframe thead th {\n",
       "        text-align: right;\n",
       "    }\n",
       "</style>\n",
       "<table border=\"1\" class=\"dataframe\">\n",
       "  <thead>\n",
       "    <tr style=\"text-align: right;\">\n",
       "      <th></th>\n",
       "      <th>Age</th>\n",
       "      <th>SibSp</th>\n",
       "      <th>Fare</th>\n",
       "    </tr>\n",
       "  </thead>\n",
       "  <tbody>\n",
       "    <tr>\n",
       "      <th>mean</th>\n",
       "      <td>29.36</td>\n",
       "      <td>0.52</td>\n",
       "      <td>32.20</td>\n",
       "    </tr>\n",
       "    <tr>\n",
       "      <th>median</th>\n",
       "      <td>28.00</td>\n",
       "      <td>0.00</td>\n",
       "      <td>14.45</td>\n",
       "    </tr>\n",
       "    <tr>\n",
       "      <th>std</th>\n",
       "      <td>13.02</td>\n",
       "      <td>1.10</td>\n",
       "      <td>49.69</td>\n",
       "    </tr>\n",
       "    <tr>\n",
       "      <th>min</th>\n",
       "      <td>0.42</td>\n",
       "      <td>0.00</td>\n",
       "      <td>0.00</td>\n",
       "    </tr>\n",
       "    <tr>\n",
       "      <th>max</th>\n",
       "      <td>80.00</td>\n",
       "      <td>8.00</td>\n",
       "      <td>512.33</td>\n",
       "    </tr>\n",
       "  </tbody>\n",
       "</table>\n",
       "</div>"
      ]
     },
     "execution_count": 25,
     "metadata": {},
     "output_type": "execute_result"
    }
   ],
   "execution_count": 25
  },
  {
   "metadata": {},
   "cell_type": "markdown",
   "source": [
    "### Numerical Summary – Central Tendency & Spread\n",
    "\n",
    "- **Age**: Stable distribution with mean (29.36) close to median (28.0); standard deviation (13.02) is moderate. Indicates a symmetric, well-distributed variable.\n",
    "- **SibSp**: Right-skewed. Mean (0.52) is higher than median (0.0), and standard deviation (1.1) suggests variability due to large family groups.\n",
    "- **Fare**: Highly skewed. Mean (32.2) is more than double the median (14.45), and a large standard deviation (49.69) indicates strong outlier influence and a wide spread in ticket prices.\n"
   ],
   "id": "64f674c4c6e99728"
  },
  {
   "metadata": {},
   "cell_type": "markdown",
   "source": "## Relationship Comparison",
   "id": "d8a7dd46de12e71"
  },
  {
   "metadata": {
    "ExecuteTime": {
     "end_time": "2025-04-17T15:24:12.258951Z",
     "start_time": "2025-04-17T15:24:12.244806Z"
    }
   },
   "cell_type": "code",
   "source": "df.groupby('Sex')['Survived'].mean().round(2)",
   "id": "efd7f6dd7186114",
   "outputs": [
    {
     "data": {
      "text/plain": [
       "Sex\n",
       "female    0.74\n",
       "male      0.19\n",
       "Name: Survived, dtype: float64"
      ]
     },
     "execution_count": 26,
     "metadata": {},
     "output_type": "execute_result"
    }
   ],
   "execution_count": 26
  },
  {
   "metadata": {},
   "cell_type": "markdown",
   "source": [
    "### Survival Rate by Gender\n",
    "- Female passengers had a significantly higher survival rate (**74%**) compared to males (**19%**).\n",
    "- This reflects the \"women and children first\" policy followed during the Titanic evacuation.\n"
   ],
   "id": "9efafc78753b34ce"
  },
  {
   "metadata": {},
   "cell_type": "markdown",
   "source": [
    "> Note: The 74% (females) and 19% (males) survival rates show how many from each group survived.\n",
    "> They don’t add up to 100% because they are **separate group-wise percentages**, not parts of a whole.\n",
    "> No data is missing — it’s just how the calculation works.\n"
   ],
   "id": "399ed94dc80655a4"
  },
  {
   "metadata": {},
   "cell_type": "markdown",
   "source": "## Pclass Vs Survived",
   "id": "e91e5c2763503254"
  },
  {
   "metadata": {
    "ExecuteTime": {
     "end_time": "2025-04-17T15:24:12.770385Z",
     "start_time": "2025-04-17T15:24:12.752907Z"
    }
   },
   "cell_type": "code",
   "source": "df.groupby('Pclass')['Survived'].mean().round(2)",
   "id": "fe496b9b32b80295",
   "outputs": [
    {
     "data": {
      "text/plain": [
       "Pclass\n",
       "1    0.63\n",
       "2    0.47\n",
       "3    0.24\n",
       "Name: Survived, dtype: float64"
      ]
     },
     "execution_count": 27,
     "metadata": {},
     "output_type": "execute_result"
    }
   ],
   "execution_count": 27
  },
  {
   "metadata": {},
   "cell_type": "markdown",
   "source": [
    "### Survival Rate by Passenger Class\n",
    "- 1st Class: **63%** survival rate\n",
    "- 2nd Class: **47%** survival rate\n",
    "- 3rd Class: **24%** survival rate\n",
    "\n",
    "This shows that passengers in higher classes had a significantly better chance of survival, possibly due to better cabin locations or priority during evacuation.\n"
   ],
   "id": "511e0cdf1efb2706"
  },
  {
   "metadata": {},
   "cell_type": "markdown",
   "source": "## Embarked Vs Survived",
   "id": "92e1943e450eed4d"
  },
  {
   "metadata": {
    "ExecuteTime": {
     "end_time": "2025-04-17T15:24:13.042268Z",
     "start_time": "2025-04-17T15:24:13.032283Z"
    }
   },
   "cell_type": "code",
   "source": "df.groupby('Embarked')['Survived'].mean().round(2)",
   "id": "fae750b9d6fad642",
   "outputs": [
    {
     "data": {
      "text/plain": [
       "Embarked\n",
       "C    0.55\n",
       "Q    0.39\n",
       "S    0.34\n",
       "Name: Survived, dtype: float64"
      ]
     },
     "execution_count": 28,
     "metadata": {},
     "output_type": "execute_result"
    }
   ],
   "execution_count": 28
  },
  {
   "metadata": {},
   "cell_type": "markdown",
   "source": [
    "### Survival Rate by Embarkation Port\n",
    "- Cherbourg (`C`): **55%** survival rate\n",
    "- Queenstown (`Q`): **39%** survival rate\n",
    "- Southampton (`S`): **34%** survival rate\n",
    "\n",
    "Passengers who boarded at Cherbourg had the highest survival rate. This may reflect differences in passenger class or ship sections associated with each port.\n"
   ],
   "id": "b1daf9b6d102750d"
  },
  {
   "metadata": {},
   "cell_type": "markdown",
   "source": "## Age Vs Survived",
   "id": "bbbe32132eb20acc"
  },
  {
   "metadata": {
    "ExecuteTime": {
     "end_time": "2025-04-17T15:24:13.282752Z",
     "start_time": "2025-04-17T15:24:13.271648Z"
    }
   },
   "cell_type": "code",
   "source": [
    "\n",
    "df.groupby('Survived')['Age'].mean().round(2)"
   ],
   "id": "2cf23d4a7c69391f",
   "outputs": [
    {
     "data": {
      "text/plain": [
       "Survived\n",
       "0    30.03\n",
       "1    28.29\n",
       "Name: Age, dtype: float64"
      ]
     },
     "execution_count": 29,
     "metadata": {},
     "output_type": "execute_result"
    }
   ],
   "execution_count": 29
  },
  {
   "metadata": {},
   "cell_type": "markdown",
   "source": [
    "### Survival Rate by Age (Average Comparison)\n",
    "- The average age of those who did not survive was **30.03 years**.\n",
    "- The average age of survivors was **28.29 years**.\n",
    "- The age difference is small, suggesting age alone did not strongly influence survival.\n"
   ],
   "id": "ab6389f1c64f6bef"
  },
  {
   "metadata": {
    "ExecuteTime": {
     "end_time": "2025-04-17T17:37:36.422615Z",
     "start_time": "2025-04-17T17:37:35.644908Z"
    }
   },
   "cell_type": "code",
   "source": [
    "with pd.ExcelWriter(r\"C:\\excel_practice\\Portfolio\\Work_to_show\\Descriptive\\Descriptive Project.xlsx\", mode='a', engine='openpyxl', if_sheet_exists='replace') as writer:\n",
    "    df.to_excel(writer, sheet_name='working_directory', index=False)"
   ],
   "id": "16a3241c653e2342",
   "outputs": [],
   "execution_count": 33
  },
  {
   "metadata": {},
   "cell_type": "markdown",
   "source": [
    "---\n",
    "\n",
    "## ✅ Summary\n",
    "\n",
    "The dataset was successfully cleaned and analyzed using descriptive statistical methods.\n",
    "Key features were explored using measures like mean, median, standard deviation, and IQR.\n",
    "Insights drawn from the analysis formed the foundation of the Power BI dashboard and final report.\n",
    "\n",
    "📌 This notebook serves as the backend of the project — tracking every step taken during analysis.\n",
    "\n",
    "---\n"
   ],
   "id": "a68636d73c29133"
  },
  {
   "metadata": {},
   "cell_type": "markdown",
   "source": [
    "# Descriptive Analysis Summary – Titanic Dataset\n",
    "\n",
    "## Objective\n",
    "The goal of this project was to apply **descriptive analysis techniques** to the Titanic dataset to extract meaningful insights from both categorical and numerical data. The focus was on **cleaning, summarizing, and understanding** the structure of the data — laying a foundation for further analysis or visualization.\n",
    "\n",
    "---\n",
    "\n",
    "## Data Preparation & Cleaning\n",
    "- Unnecessary columns (`PassengerId`, `Name`, `Ticket`, `Cabin`, etc.) were removed to simplify analysis.\n",
    "- Missing values were handled:\n",
    "  - `Age`: Imputed using **median** due to slight skewness and outliers.\n",
    "  - `Embarked`: Imputed using **mode** since it’s categorical and had only 2 missing entries.\n",
    "- `Pclass` and `Survived` were kept as categorical despite being numeric.\n",
    "\n",
    "---\n",
    "\n",
    "## Categorical Feature Insights\n",
    "- **Sex**: 65% male, 35% female. Females had a **74% survival rate** vs. 19% for males.\n",
    "- **Pclass**: Most passengers were in 3rd class (55%), which had the **lowest survival rate** at 24%.\n",
    "- **Embarked**: Majority embarked from `S` (73%). Those who boarded at `C` had the **highest survival rate** (55%).\n",
    "- **Survived**: 38% survived, 62% perished — showing a significant imbalance.\n",
    "\n",
    "---\n",
    "\n",
    "## Numerical Feature Insights\n",
    "- **Age**: Mean = 29.36, Median = 28.0 → fairly stable distribution.\n",
    "- **Fare**: Mean = 32.2, Median = 14.45 → **highly skewed**, affected by outliers.\n",
    "- **SibSp** and **Parch**: Right-skewed, mostly zero. Parch had no spread, so it was excluded from outlier analysis.\n",
    "\n",
    "### Outlier Detection (IQR Method)\n",
    "- Outliers were detected in `Fare`, `SibSp`, and `Age`, with **Fare** showing the highest deviation.\n",
    "- No outliers were removed; they were considered potentially meaningful.\n",
    "\n",
    "---\n",
    "\n",
    "## Feature Relationships\n",
    "- **Sex vs Survived**: Females survived significantly more than males (74% vs 19%).\n",
    "- **Pclass vs Survived**: 1st class had 63% survival; 3rd class had only 24%.\n",
    "- **Embarked vs Survived**: Passengers from Cherbourg (`C`) had the highest survival rate.\n",
    "- **Age vs Survived**: Little difference in average age of survivors vs non-survivors (28.29 vs 30.03).\n",
    "\n",
    "---\n",
    "\n",
    "## Key Takeaways\n",
    "- Survival strongly correlates with **gender and class**.\n",
    "- **Ticket fare** and **embarkation point** show indirect influence, possibly through class.\n",
    "- The dataset is **cleaned, imputed, and structured** — ready for dashboarding or exploratory data analysis (EDA).\n",
    "\n",
    "---\n",
    "\n",
    "## Next Step: Visualization in Power BI\n",
    "This dataset is now ready for visual exploration in Power BI. The insights found here will guide the story and help structure the visuals in a meaningful way.\n"
   ],
   "id": "368ee4d3dabb65eb"
  }
 ],
 "metadata": {
  "kernelspec": {
   "display_name": "Python 3",
   "language": "python",
   "name": "python3"
  },
  "language_info": {
   "codemirror_mode": {
    "name": "ipython",
    "version": 2
   },
   "file_extension": ".py",
   "mimetype": "text/x-python",
   "name": "python",
   "nbconvert_exporter": "python",
   "pygments_lexer": "ipython2",
   "version": "2.7.6"
  }
 },
 "nbformat": 4,
 "nbformat_minor": 5
}
